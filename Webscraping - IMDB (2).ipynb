{
 "cells": [
  {
   "cell_type": "markdown",
   "id": "8733599d",
   "metadata": {},
   "source": [
    "# WebScraping IMDB for the Top rated 250 movies"
   ]
  },
  {
   "cell_type": "markdown",
   "id": "4372db34",
   "metadata": {},
   "source": [
    "## Information to scrape from the website\n",
    "\n",
    "- movie title\n",
    "- rank\n",
    "- year \n",
    "- rating"
   ]
  },
  {
   "cell_type": "code",
   "execution_count": 183,
   "id": "7b9a0732",
   "metadata": {},
   "outputs": [],
   "source": [
    "#Import the necessary libararies for scraping.\n",
    "\n",
    "from bs4 import BeautifulSoup\n",
    "import requests\n",
    "import os\n",
    "import pandas as pd\n",
    "import openpyxl\n",
    "import csv"
   ]
  },
  {
   "cell_type": "code",
   "execution_count": 3,
   "id": "c2bc3a92",
   "metadata": {},
   "outputs": [],
   "source": [
    "#create a variable and do a request on the url.\n",
    "\n",
    "source = requests.get('https://www.imdb.com/chart/top/')"
   ]
  },
  {
   "cell_type": "code",
   "execution_count": 6,
   "id": "96a7cfce",
   "metadata": {},
   "outputs": [
    {
     "data": {
      "text/plain": [
       "200"
      ]
     },
     "execution_count": 6,
     "metadata": {},
     "output_type": "execute_result"
    }
   ],
   "source": [
    "#run status_code to make sure the response is successful\n",
    "#200-299 is the successful range.\n",
    "\n",
    "source.raise_for_status()\n",
    "source.status_code"
   ]
  },
  {
   "cell_type": "code",
   "execution_count": 92,
   "id": "477e6993",
   "metadata": {},
   "outputs": [],
   "source": [
    "#used beautiful soup to parse the html text from website.\n",
    "\n",
    "soup = BeautifulSoup(source.text, 'html.parser')"
   ]
  },
  {
   "cell_type": "code",
   "execution_count": 93,
   "id": "e4ec70a1",
   "metadata": {},
   "outputs": [],
   "source": [
    "#each of the movie details are within these tags.\n",
    "\n",
    "movies = soup.find('tbody', {'class': \"lister-list\"}).find_all('tr')"
   ]
  },
  {
   "cell_type": "code",
   "execution_count": 94,
   "id": "eaca3104",
   "metadata": {},
   "outputs": [
    {
     "data": {
      "text/plain": [
       "250"
      ]
     },
     "execution_count": 94,
     "metadata": {},
     "output_type": "execute_result"
    }
   ],
   "source": [
    "#We can see that 250 movies have been found as shown in the url\n",
    "\n",
    "len(movies)"
   ]
  },
  {
   "cell_type": "code",
   "execution_count": 99,
   "id": "ad6a0aef",
   "metadata": {},
   "outputs": [
    {
     "name": "stdout",
     "output_type": "stream",
     "text": [
      "<a href=\"/title/tt0111161/\" title=\"Frank Darabont (dir.), Tim Robbins, Morgan Freeman\">The Shawshank Redemption</a>\n"
     ]
    }
   ],
   "source": [
    "#time to find the name of the movie\n",
    "#movie title is in the 'a' tag so we did a '.a' to narrow it down.\n",
    "\n",
    "name = movie.find('td', {'class': 'titleColumn'}).a\n",
    "print(name)"
   ]
  },
  {
   "cell_type": "code",
   "execution_count": 97,
   "id": "1005db7a",
   "metadata": {},
   "outputs": [
    {
     "name": "stdout",
     "output_type": "stream",
     "text": [
      "The Shawshank Redemption\n"
     ]
    }
   ],
   "source": [
    "#to get the text attribute from the tag we did a '.text'.\n",
    "\n",
    "name = movie.find('td', {'class': 'titleColumn'}).a.text\n",
    "print(name)"
   ]
  },
  {
   "cell_type": "code",
   "execution_count": 98,
   "id": "ee973b95",
   "metadata": {
    "scrolled": true
   },
   "outputs": [
    {
     "name": "stdout",
     "output_type": "stream",
     "text": [
      "1\n"
     ]
    }
   ],
   "source": [
    "#rank is getting movie rank\n",
    "#.get_text and strip to format it correctly\n",
    "\n",
    "#rank = movie.find('td', {'class': 'titleColumn'}).get_text(strip=True)\n",
    "print(rank)"
   ]
  },
  {
   "cell_type": "code",
   "execution_count": 75,
   "id": "c811852c",
   "metadata": {},
   "outputs": [
    {
     "name": "stdout",
     "output_type": "stream",
     "text": [
      "1\n"
     ]
    }
   ],
   "source": [
    "#add a .split to separate the 1, .split puts it into a list, so we can now get what we want by using indexes\n",
    "#index of [0] to get only the number.\n",
    "\n",
    "rank = movie.find('td', {'class': 'titleColumn'}).get_text(strip=True).split('.')[0]\n",
    "\n",
    "print(rank)"
   ]
  },
  {
   "cell_type": "code",
   "execution_count": 53,
   "id": "912671b2",
   "metadata": {},
   "outputs": [
    {
     "name": "stdout",
     "output_type": "stream",
     "text": [
      "1994\n"
     ]
    }
   ],
   "source": [
    "#now to get the year\n",
    "\n",
    "year = movie.find('td', {'class': 'titleColumn'}).span.text.strip('()')\n",
    "print(year)"
   ]
  },
  {
   "cell_type": "code",
   "execution_count": 58,
   "id": "e583fb43",
   "metadata": {},
   "outputs": [
    {
     "name": "stdout",
     "output_type": "stream",
     "text": [
      "9.2\n"
     ]
    }
   ],
   "source": [
    "#now for rating\n",
    "#this time we have to look a little further into the td tag for the rating\n",
    "#class is a little different from title column.\n",
    "\n",
    "rating = movie.find('td', {'class': 'ratingColumn imdbRating'}).strong.text\n",
    "#print(rating)"
   ]
  },
  {
   "cell_type": "code",
   "execution_count": 184,
   "id": "fc281ed7",
   "metadata": {},
   "outputs": [
    {
     "name": "stdout",
     "output_type": "stream",
     "text": [
      "['Sheet']\n"
     ]
    }
   ],
   "source": [
    "#create excel workbook\n",
    "\n",
    "excel = openpyxl.Workbook()\n",
    "print(excel.sheetnames)"
   ]
  },
  {
   "cell_type": "code",
   "execution_count": 185,
   "id": "c311c9d7",
   "metadata": {},
   "outputs": [
    {
     "name": "stdout",
     "output_type": "stream",
     "text": [
      "['Top250 movies IMDB']\n"
     ]
    }
   ],
   "source": [
    "#rename excel sheet and make active\n",
    "\n",
    "sheet = excel.active\n",
    "sheet.title = 'Top250 movies IMDB'\n",
    "print(excel.sheetnames)"
   ]
  },
  {
   "cell_type": "code",
   "execution_count": 186,
   "id": "86cbaa52",
   "metadata": {},
   "outputs": [],
   "source": [
    "#add and name the columns as you want\n",
    "\n",
    "sheet.append(['Movie Rank', 'Movie Name', 'Year of Release', 'IMDB Rating'])"
   ]
  },
  {
   "cell_type": "code",
   "execution_count": 204,
   "id": "7f4b024a",
   "metadata": {
    "scrolled": true
   },
   "outputs": [
    {
     "name": "stdout",
     "output_type": "stream",
     "text": [
      "1 The Shawshank Redemption 1994 9.2\n",
      "2 The Godfather 1972 9.1\n",
      "3 The Godfather: Part II 1974 9.0\n",
      "4 The Dark Knight 2008 9.0\n",
      "5 12 Angry Men 1957 8.9\n",
      "6 Schindler's List 1993 8.9\n",
      "7 The Lord of the Rings: The Return of the King 2003 8.9\n",
      "8 Pulp Fiction 1994 8.8\n",
      "9 The Good, the Bad and the Ugly 1966 8.8\n",
      "10 The Lord of the Rings: The Fellowship of the Ring 2001 8.8\n",
      "11 Fight Club 1999 8.7\n",
      "12 Forrest Gump 1994 8.7\n",
      "13 Inception 2010 8.7\n",
      "14 The Lord of the Rings: The Two Towers 2002 8.7\n",
      "15 Star Wars: Episode V - The Empire Strikes Back 1980 8.7\n",
      "16 The Matrix 1999 8.7\n",
      "17 Goodfellas 1990 8.6\n",
      "18 One Flew Over the Cuckoo's Nest 1975 8.6\n",
      "19 Seven Samurai 1954 8.6\n",
      "20 Se7en 1995 8.6\n",
      "21 The Silence of the Lambs 1991 8.6\n",
      "22 City of God 2002 8.6\n",
      "23 Life Is Beautiful 1997 8.6\n",
      "24 It's a Wonderful Life 1946 8.6\n",
      "25 Saving Private Ryan 1998 8.6\n",
      "26 Star Wars 1977 8.5\n",
      "27 Interstellar 2014 8.5\n",
      "28 Spirited Away 2001 8.5\n",
      "29 The Green Mile 1999 8.5\n",
      "30 Spider-Man: No Way Home 2021 8.5\n",
      "31 Parasite 2019 8.5\n",
      "32 Léon: The Professional 1994 8.5\n",
      "33 Hara-Kiri 1962 8.5\n",
      "34 The Pianist 2002 8.5\n",
      "35 Terminator 2: Judgment Day 1991 8.5\n",
      "36 Back to the Future 1985 8.5\n",
      "37 The Lion King 1994 8.5\n",
      "38 Psycho 1960 8.5\n",
      "39 The Usual Suspects 1995 8.5\n",
      "40 Modern Times 1936 8.5\n",
      "41 Grave of the Fireflies 1988 8.5\n",
      "42 American History X 1998 8.5\n",
      "43 Whiplash 2014 8.5\n",
      "44 Gladiator 2000 8.5\n",
      "45 The Departed 2006 8.5\n",
      "46 City Lights 1931 8.5\n",
      "47 The Intouchables 2011 8.5\n",
      "48 The Prestige 2006 8.5\n",
      "49 Casablanca 1942 8.4\n",
      "50 Once Upon a Time in the West 1968 8.4\n",
      "51 Rear Window 1954 8.4\n",
      "52 Cinema Paradiso 1988 8.4\n",
      "53 Alien 1979 8.4\n",
      "54 Apocalypse Now 1979 8.4\n",
      "55 Memento 2000 8.4\n",
      "56 Indiana Jones and the Raiders of the Lost Ark 1981 8.4\n",
      "57 The Great Dictator 1940 8.4\n",
      "58 Django Unchained 2012 8.4\n",
      "59 The Lives of Others 2006 8.4\n",
      "60 Paths of Glory 1957 8.4\n",
      "61 Sunset Blvd. 1950 8.4\n",
      "62 WALL·E 2008 8.4\n",
      "63 Avengers: Infinity War 2018 8.4\n",
      "64 Spider-Man: Into the Spider-Verse 2018 8.4\n",
      "65 Witness for the Prosecution 1957 8.4\n",
      "66 The Shining 1980 8.4\n",
      "67 Dr. Strangelove or: How I Learned to Stop Worrying and Love the Bomb 1964 8.4\n",
      "68 Princess Mononoke 1997 8.3\n",
      "69 Old Boy 2003 8.3\n",
      "70 Joker 2019 8.3\n",
      "71 Your Name. 2016 8.3\n",
      "72 Coco 2017 8.3\n",
      "73 The Dark Knight Rises 2012 8.3\n",
      "74 Aliens 1986 8.3\n",
      "75 Once Upon a Time in America 1984 8.3\n",
      "76 Avengers: Endgame 2019 8.3\n",
      "77 Capernaum 2018 8.3\n",
      "78 The Boat 1981 8.3\n",
      "79 High and Low 1963 8.3\n",
      "80 3 Idiots 2009 8.3\n",
      "81 Toy Story 1995 8.3\n",
      "82 Amadeus 1984 8.3\n",
      "83 American Beauty 1999 8.3\n",
      "84 Braveheart 1995 8.3\n",
      "85 Inglourious Basterds 2009 8.3\n",
      "86 Good Will Hunting 1997 8.3\n",
      "87 Hamilton 2020 8.3\n",
      "88 Come and See 1985 8.3\n",
      "89 Star Wars: Episode VI - Return of the Jedi 1983 8.3\n",
      "90 2001: A Space Odyssey 1968 8.3\n",
      "91 Reservoir Dogs 1992 8.3\n",
      "92 Like Stars on Earth 2007 8.3\n",
      "93 Vertigo 1958 8.3\n",
      "94 M 1931 8.3\n",
      "95 The Hunt 2012 8.3\n",
      "96 Citizen Kane 1941 8.3\n",
      "97 Singin' in the Rain 1952 8.3\n",
      "98 Requiem for a Dream 2000 8.3\n",
      "99 North by Northwest 1959 8.3\n",
      "100 Ikiru 1952 8.3\n",
      "101 Eternal Sunshine of the Spotless Mind 2004 8.3\n",
      "102 Bicycle Thieves 1948 8.3\n",
      "103 Lawrence of Arabia 1962 8.2\n",
      "104 The Kid 1921 8.2\n",
      "105 Incendies 2010 8.2\n",
      "106 Full Metal Jacket 1987 8.2\n",
      "107 Dangal 2016 8.2\n",
      "108 The Apartment 1960 8.2\n",
      "109 Double Indemnity 1944 8.2\n",
      "110 Metropolis 1927 8.2\n",
      "111 A Clockwork Orange 1971 8.2\n",
      "112 Taxi Driver 1976 8.2\n",
      "113 The Father 2020 8.2\n",
      "114 A Separation 2011 8.2\n",
      "115 The Sting 1973 8.2\n",
      "116 Scarface 1983 8.2\n",
      "117 Snatch 2000 8.2\n",
      "118 1917 2019 8.2\n",
      "119 Amélie 2001 8.2\n",
      "120 To Kill a Mockingbird 1962 8.2\n",
      "121 Toy Story 3 2010 8.2\n",
      "122 For a Few Dollars More 1965 8.2\n",
      "123 Up 2009 8.2\n",
      "124 Indiana Jones and the Last Crusade 1989 8.2\n",
      "125 Pather Panchali 1955 8.2\n",
      "126 Heat 1995 8.2\n",
      "127 L.A. Confidential 1997 8.2\n",
      "128 Ran 1985 8.2\n",
      "129 Die Hard 1988 8.2\n",
      "130 Yojimbo 1961 8.2\n",
      "131 Green Book 2018 8.2\n",
      "132 Downfall 2004 8.2\n",
      "133 Rashomon 1950 8.2\n",
      "134 All About Eve 1950 8.2\n",
      "135 Monty Python and the Holy Grail 1975 8.2\n",
      "136 Some Like It Hot 1959 8.2\n",
      "137 Batman Begins 2005 8.2\n",
      "138 Unforgiven 1992 8.2\n",
      "139 Children of Heaven 1997 8.2\n",
      "140 Jai Bhim 2021 8.2\n",
      "141 The Wolf of Wall Street 2013 8.2\n",
      "142 Howl's Moving Castle 2004 8.2\n",
      "143 Judgment at Nuremberg 1961 8.2\n",
      "144 There Will Be Blood 2007 8.2\n",
      "145 Casino 1995 8.2\n",
      "146 The Great Escape 1963 8.2\n",
      "147 The Treasure of the Sierra Madre 1948 8.2\n",
      "148 Pan's Labyrinth 2006 8.1\n",
      "149 A Beautiful Mind 2001 8.1\n",
      "150 The Secret in Their Eyes 2009 8.1\n",
      "151 Raging Bull 1980 8.1\n",
      "152 Chinatown 1974 8.1\n",
      "153 Shutter Island 2010 8.1\n",
      "154 My Neighbor Totoro 1988 8.1\n",
      "155 Lock, Stock and Two Smoking Barrels 1998 8.1\n",
      "156 No Country for Old Men 2007 8.1\n",
      "157 Klaus 2019 8.1\n",
      "158 The Thing 1982 8.1\n",
      "159 Dial M for Murder 1954 8.1\n",
      "160 The Gold Rush 1925 8.1\n",
      "161 Three Billboards Outside Ebbing, Missouri 2017 8.1\n",
      "162 The Seventh Seal 1957 8.1\n",
      "163 The Elephant Man 1980 8.1\n",
      "164 The Sixth Sense 1999 8.1\n",
      "165 Jurassic Park 1993 8.1\n",
      "166 The Truman Show 1998 8.1\n",
      "167 Dersu Uzala 1975 8.1\n",
      "168 Wild Strawberries 1957 8.1\n",
      "169 The Third Man 1949 8.1\n",
      "170 Memories of Murder 2003 8.1\n",
      "171 V for Vendetta 2005 8.1\n",
      "172 Blade Runner 1982 8.1\n",
      "173 Trainspotting 1996 8.1\n",
      "174 Fargo 1996 8.1\n",
      "175 The Bridge on the River Kwai 1957 8.1\n",
      "176 Inside Out 2015 8.1\n",
      "177 Kill Bill: Vol. 1 2003 8.1\n",
      "178 Finding Nemo 2003 8.1\n",
      "179 Warrior 2011 8.1\n",
      "180 Gone with the Wind 1939 8.1\n",
      "181 Tokyo Story 1953 8.1\n",
      "182 On the Waterfront 1954 8.1\n",
      "183 My Father and My Son 2005 8.1\n",
      "184 Prisoners 2013 8.1\n",
      "185 Wild Tales 2014 8.1\n",
      "186 The Grand Budapest Hotel 2014 8.1\n",
      "187 Stalker 1979 8.1\n",
      "188 The Deer Hunter 1978 8.1\n",
      "189 Gran Torino 2008 8.1\n",
      "190 The General 1926 8.1\n",
      "191 Sherlock Jr. 1924 8.1\n",
      "192 Persona 1966 8.1\n",
      "193 Before Sunrise 1995 8.1\n",
      "194 Catch Me If You Can 2002 8.1\n",
      "195 Mary and Max 2009 8.1\n",
      "196 Barry Lyndon 1975 8.1\n",
      "197 Mr. Smith Goes to Washington 1939 8.1\n",
      "198 In the Name of the Father 1993 8.1\n",
      "199 Hacksaw Ridge 2016 8.1\n",
      "200 Gone Girl 2014 8.1\n",
      "201 Room 2015 8.1\n",
      "202 Z 1969 8.1\n",
      "203 Andhadhun 2018 8.1\n",
      "204 Ford v Ferrari 2019 8.1\n",
      "205 The Passion of Joan of Arc 1928 8.1\n",
      "206 12 Years a Slave 2013 8.1\n",
      "207 Dune 2021 8.1\n",
      "208 To Be or Not to Be 1942 8.1\n",
      "209 The Big Lebowski 1998 8.1\n",
      "210 Dead Poets Society 1989 8.1\n",
      "211 Harry Potter and the Deathly Hallows: Part 2 2011 8.1\n",
      "212 Ben-Hur 1959 8.1\n",
      "213 How to Train Your Dragon 2010 8.1\n",
      "214 Mad Max: Fury Road 2015 8.1\n",
      "215 Million Dollar Baby 2004 8.1\n",
      "216 Autumn Sonata 1978 8.1\n",
      "217 The Wages of Fear 1953 8.1\n",
      "218 Stand by Me 1986 8.1\n",
      "219 Logan 2017 8.1\n",
      "220 Network 1976 8.1\n",
      "221 The Handmaiden 2016 8.1\n",
      "222 Gangs of Wasseypur 2012 8.1\n",
      "223 La Haine 1995 8.1\n",
      "224 A Silent Voice: The Movie 2016 8.1\n",
      "225 Hachi: A Dog's Tale 2009 8.0\n",
      "226 Cool Hand Luke 1967 8.0\n",
      "227 The 400 Blows 1959 8.0\n",
      "228 Platoon 1986 8.0\n",
      "229 Spotlight 2015 8.0\n",
      "230 Monsters, Inc. 2001 8.0\n",
      "231 Rebecca 1940 8.0\n",
      "232 In the Mood for Love 2000 8.0\n",
      "233 Life of Brian 1979 8.0\n",
      "234 The Bandit 1996 8.0\n",
      "235 Hotel Rwanda 2004 8.0\n",
      "236 Rush 2013 8.0\n",
      "237 Rocky 1976 8.0\n",
      "238 Demon Slayer the Movie: Mugen Train 2020 8.0\n",
      "239 Amores perros 2000 8.0\n",
      "240 Into the Wild 2007 8.0\n",
      "241 Nausicaä of the Valley of the Wind 1984 8.0\n",
      "242 Before Sunset 2004 8.0\n",
      "243 Drishyam 2013 8.0\n",
      "244 It Happened One Night 1934 8.0\n",
      "245 Andrei Rublev 1966 8.0\n",
      "246 Miracle in Cell No. 7 2019 8.0\n",
      "247 Fanny and Alexander 1982 8.0\n",
      "248 Hera Pheri 2000 8.0\n",
      "249 Nights of Cabiria 1957 8.0\n",
      "250 The Battle of Algiers 1966 8.0\n"
     ]
    }
   ],
   "source": [
    "#Put all the code into a try and except block for any errors\n",
    "\n",
    "try:\n",
    "    source = requests.get('https://www.imdb.com/chart/top/')\n",
    "    source.raise_for_status()\n",
    "    \n",
    "    soup = BeautifulSoup(source.text, 'html.parser')\n",
    "    \n",
    "    #lister-list has all of the 250 movies in\n",
    "    #we do a find_all on the 'tr' tag because it has all of the details for EACH movie.\n",
    "    movies = soup.find('tbody', {'class': \"lister-list\"}).find_all('tr')\n",
    "    \n",
    "    \n",
    "    #created a loop to loop through the 'td' tag and print out the move title tag\n",
    "    #movie title tag is 'a', that's why we added '.a' after.\n",
    "    for movie in movies:\n",
    "        \n",
    "        name = movie.find('td', {'class': 'titleColumn'}).a.text\n",
    "        \n",
    "        rank = movie.find('td', {'class': 'titleColumn'}).get_text(strip=True).split('.')[0]\n",
    "        \n",
    "        year = movie.find('td', {'class': 'titleColumn'}).span.text.strip('()')\n",
    "        \n",
    "        rating = movie.find('td', {'class': 'ratingColumn imdbRating'}).strong.text\n",
    "        \n",
    "        print(rank, name, year, rating)\n",
    "        \n",
    "        #add in the sheet with columns\n",
    "        sheet.append([rank, name, year, rating])\n",
    "    \n",
    "except Exception as e:\n",
    "    print(e)\n",
    "    \n",
    "#save as csv or xlsx\n",
    "excel.save('IMDB Top 250 movies test.csv')"
   ]
  },
  {
   "cell_type": "code",
   "execution_count": 205,
   "id": "7134ce35",
   "metadata": {
    "scrolled": false
   },
   "outputs": [],
   "source": [
    "#imported excel file into a Dataframe.\n",
    "\n",
    "movie_df = pd.read_csv(r'.\\IMDB Top 250 movies.csv')"
   ]
  },
  {
   "cell_type": "code",
   "execution_count": 206,
   "id": "a2699cd2",
   "metadata": {},
   "outputs": [
    {
     "data": {
      "text/html": [
       "<div>\n",
       "<style scoped>\n",
       "    .dataframe tbody tr th:only-of-type {\n",
       "        vertical-align: middle;\n",
       "    }\n",
       "\n",
       "    .dataframe tbody tr th {\n",
       "        vertical-align: top;\n",
       "    }\n",
       "\n",
       "    .dataframe thead th {\n",
       "        text-align: right;\n",
       "    }\n",
       "</style>\n",
       "<table border=\"1\" class=\"dataframe\">\n",
       "  <thead>\n",
       "    <tr style=\"text-align: right;\">\n",
       "      <th></th>\n",
       "      <th>Movie Rank</th>\n",
       "      <th>Movie Name</th>\n",
       "      <th>Year of Release</th>\n",
       "      <th>IMDB Rating</th>\n",
       "    </tr>\n",
       "  </thead>\n",
       "  <tbody>\n",
       "    <tr>\n",
       "      <th>0</th>\n",
       "      <td>1</td>\n",
       "      <td>The Shawshank Redemption</td>\n",
       "      <td>1994</td>\n",
       "      <td>9.2</td>\n",
       "    </tr>\n",
       "    <tr>\n",
       "      <th>1</th>\n",
       "      <td>2</td>\n",
       "      <td>The Godfather</td>\n",
       "      <td>1972</td>\n",
       "      <td>9.1</td>\n",
       "    </tr>\n",
       "    <tr>\n",
       "      <th>2</th>\n",
       "      <td>3</td>\n",
       "      <td>The Godfather: Part II</td>\n",
       "      <td>1974</td>\n",
       "      <td>9.0</td>\n",
       "    </tr>\n",
       "    <tr>\n",
       "      <th>3</th>\n",
       "      <td>4</td>\n",
       "      <td>The Dark Knight</td>\n",
       "      <td>2008</td>\n",
       "      <td>9.0</td>\n",
       "    </tr>\n",
       "    <tr>\n",
       "      <th>4</th>\n",
       "      <td>5</td>\n",
       "      <td>12 Angry Men</td>\n",
       "      <td>1957</td>\n",
       "      <td>8.9</td>\n",
       "    </tr>\n",
       "    <tr>\n",
       "      <th>...</th>\n",
       "      <td>...</td>\n",
       "      <td>...</td>\n",
       "      <td>...</td>\n",
       "      <td>...</td>\n",
       "    </tr>\n",
       "    <tr>\n",
       "      <th>245</th>\n",
       "      <td>246</td>\n",
       "      <td>Miracle in Cell No. 7</td>\n",
       "      <td>2019</td>\n",
       "      <td>8.0</td>\n",
       "    </tr>\n",
       "    <tr>\n",
       "      <th>246</th>\n",
       "      <td>247</td>\n",
       "      <td>Fanny and Alexander</td>\n",
       "      <td>1982</td>\n",
       "      <td>8.0</td>\n",
       "    </tr>\n",
       "    <tr>\n",
       "      <th>247</th>\n",
       "      <td>248</td>\n",
       "      <td>Hera Pheri</td>\n",
       "      <td>2000</td>\n",
       "      <td>8.0</td>\n",
       "    </tr>\n",
       "    <tr>\n",
       "      <th>248</th>\n",
       "      <td>249</td>\n",
       "      <td>Nights of Cabiria</td>\n",
       "      <td>1957</td>\n",
       "      <td>8.0</td>\n",
       "    </tr>\n",
       "    <tr>\n",
       "      <th>249</th>\n",
       "      <td>250</td>\n",
       "      <td>The Battle of Algiers</td>\n",
       "      <td>1966</td>\n",
       "      <td>8.0</td>\n",
       "    </tr>\n",
       "  </tbody>\n",
       "</table>\n",
       "<p>250 rows × 4 columns</p>\n",
       "</div>"
      ],
      "text/plain": [
       "     Movie Rank                Movie Name  Year of Release  IMDB Rating\n",
       "0             1  The Shawshank Redemption             1994          9.2\n",
       "1             2             The Godfather             1972          9.1\n",
       "2             3    The Godfather: Part II             1974          9.0\n",
       "3             4           The Dark Knight             2008          9.0\n",
       "4             5              12 Angry Men             1957          8.9\n",
       "..          ...                       ...              ...          ...\n",
       "245         246     Miracle in Cell No. 7             2019          8.0\n",
       "246         247       Fanny and Alexander             1982          8.0\n",
       "247         248                Hera Pheri             2000          8.0\n",
       "248         249         Nights of Cabiria             1957          8.0\n",
       "249         250     The Battle of Algiers             1966          8.0\n",
       "\n",
       "[250 rows x 4 columns]"
      ]
     },
     "execution_count": 206,
     "metadata": {},
     "output_type": "execute_result"
    }
   ],
   "source": [
    "movie_df"
   ]
  },
  {
   "cell_type": "code",
   "execution_count": null,
   "id": "73fc8390",
   "metadata": {},
   "outputs": [],
   "source": []
  },
  {
   "cell_type": "code",
   "execution_count": null,
   "id": "2737565d",
   "metadata": {},
   "outputs": [],
   "source": []
  },
  {
   "cell_type": "code",
   "execution_count": null,
   "id": "8260ec07",
   "metadata": {},
   "outputs": [],
   "source": []
  },
  {
   "cell_type": "code",
   "execution_count": null,
   "id": "3891dc28",
   "metadata": {},
   "outputs": [],
   "source": []
  }
 ],
 "metadata": {
  "kernelspec": {
   "display_name": "Python 3",
   "language": "python",
   "name": "python3"
  },
  "language_info": {
   "codemirror_mode": {
    "name": "ipython",
    "version": 3
   },
   "file_extension": ".py",
   "mimetype": "text/x-python",
   "name": "python",
   "nbconvert_exporter": "python",
   "pygments_lexer": "ipython3",
   "version": "3.8.8"
  }
 },
 "nbformat": 4,
 "nbformat_minor": 5
}
